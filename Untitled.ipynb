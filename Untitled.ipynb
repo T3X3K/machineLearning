{
 "cells": [
  {
   "cell_type": "markdown",
   "metadata": {},
   "source": [
    "You need tensorflow, so need to activate tensorflow environment. Preferably install tensorflow with gpu capabilities.\n",
    "\n",
    "Two ways to build models: sequential and functional.\n",
    "\n",
    "Sequential allows to create layer by layer, so order is important. If you want a more complicated , it's better to use functional.\n",
    "\n",
    "## Sequential Model\n",
    "\n",
    "It's a stack of layers. You need to configure, ie defining functions that describe the model.\n"
   ]
  },
  {
   "cell_type": "code",
   "execution_count": 3,
   "metadata": {},
   "outputs": [],
   "source": [
    "from tensorflow.keras.yaewrs import Dense\n",
    "\n",
    "model.add(Dense(units+64, acrivation='relu', input_dim=100))\n",
    "model.add(Dense(units+64, acrivation='relu'))"
   ]
  },
  {
   "cell_type": "markdown",
   "metadata": {},
   "source": [
    "The order of which layers are added is important. input_dim may be inferred by other layers\n",
    "\n",
    "By configuring we mean defining a loss function. After configuring model you just train it.\n",
    "epoch is an interation over the whole model, while batch size indicates how big is the part of dataset given at a time to it. An epoch is completed after all the batches are given."
   ]
  },
  {
   "cell_type": "markdown",
   "metadata": {},
   "source": [
    "# CNN\n",
    "\n",
    "There are convolutional layers which get a tensor has info regarding the data.\n",
    "\n",
    "padding is an option that tells the model to add zeros around the samples.\n",
    "\n",
    "The pooling layers allow to rescale the input, so the model focuses on scale of the input."
   ]
  }
 ],
 "metadata": {
  "kernelspec": {
   "display_name": "Python 3",
   "language": "python",
   "name": "python3"
  },
  "language_info": {
   "codemirror_mode": {
    "name": "ipython",
    "version": 3
   },
   "file_extension": ".py",
   "mimetype": "text/x-python",
   "name": "python",
   "nbconvert_exporter": "python",
   "pygments_lexer": "ipython3",
   "version": "3.7.4"
  }
 },
 "nbformat": 4,
 "nbformat_minor": 2
}
